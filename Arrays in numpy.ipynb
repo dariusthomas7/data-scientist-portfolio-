{
 "cells": [
  {
   "cell_type": "markdown",
   "id": "30486e3a-0e07-4880-951e-8a0ae76baba3",
   "metadata": {},
   "source": [
    "## Arrays and Matrices Hands-On9 points\n",
    "Directions\n",
    "For your Hands-On, you will be practicing your new skills with arrays and matrices! This Hands-On will be graded, so be sure you complete all requirements. The best way to become a data scientist is to practice!\n",
    "\n",
    "Please complete the following tasks in a Jupyter Notebook file, using the numpy package:\n",
    "\n",
    "Create a five element array using your favorite numbers named myFavorites.\n",
    "Perform each of the five aggregate functions on your array.\n",
    "Create a five element array containing only ones named OneArrayToRuleThemAll.\n",
    "Add myFavorites and OneArrayToRuleThemAll.\n",
    "Multiply every element in myFavorites by two.\n",
    "Call the third element in myFavorites using indexing.\n",
    "Create a four element, two-by-two matrix of numbers named TheMatrixHasYou.\n",
    "Access the upper left element in TheMatrixHasYou using indexing.\n",
    "Find the largest number in each row for TheMatrixHasYou.\n",
    "Reshape TheMatrixHasYou into a matrix with one row and four columns.\n"
   ]
  },
  {
   "cell_type": "code",
   "execution_count": 1,
   "id": "bfa5211d-4681-419b-ad9f-ceba1e9b2c86",
   "metadata": {},
   "outputs": [],
   "source": [
    "import numpy as np"
   ]
  },
  {
   "cell_type": "code",
   "execution_count": 2,
   "id": "f3bbdfd3-aa48-43ca-b374-643d05ae0360",
   "metadata": {},
   "outputs": [],
   "source": [
    "myfavoites=np.array([7,19,21,24,35])"
   ]
  },
  {
   "cell_type": "code",
   "execution_count": 3,
   "id": "a189e068-9bad-4663-960d-de7dfdde5f59",
   "metadata": {},
   "outputs": [
    {
     "data": {
      "text/plain": [
       "array([ 7, 19, 21, 24, 35])"
      ]
     },
     "execution_count": 3,
     "metadata": {},
     "output_type": "execute_result"
    }
   ],
   "source": [
    "myfavoites"
   ]
  },
  {
   "cell_type": "code",
   "execution_count": 4,
   "id": "de949901-4e5f-45aa-8be4-51da4ff2004a",
   "metadata": {},
   "outputs": [
    {
     "data": {
      "text/plain": [
       "7"
      ]
     },
     "execution_count": 4,
     "metadata": {},
     "output_type": "execute_result"
    }
   ],
   "source": [
    "myfavoites.min()"
   ]
  },
  {
   "cell_type": "code",
   "execution_count": 6,
   "id": "32990ca8-1e71-44bc-9f10-ee09dea2ba3f",
   "metadata": {},
   "outputs": [
    {
     "data": {
      "text/plain": [
       "35"
      ]
     },
     "execution_count": 6,
     "metadata": {},
     "output_type": "execute_result"
    }
   ],
   "source": [
    "myfavoites.max()"
   ]
  },
  {
   "cell_type": "code",
   "execution_count": 8,
   "id": "1378bf62-40ef-41a6-b4e0-fddb8be62dcd",
   "metadata": {},
   "outputs": [
    {
     "data": {
      "text/plain": [
       "106"
      ]
     },
     "execution_count": 8,
     "metadata": {},
     "output_type": "execute_result"
    }
   ],
   "source": [
    "myfavoites.sum()"
   ]
  },
  {
   "cell_type": "code",
   "execution_count": 9,
   "id": "e97b5678-f277-4c74-9adc-d7593e2f1649",
   "metadata": {},
   "outputs": [
    {
     "data": {
      "text/plain": [
       "21.2"
      ]
     },
     "execution_count": 9,
     "metadata": {},
     "output_type": "execute_result"
    }
   ],
   "source": [
    "myfavoites.mean()"
   ]
  },
  {
   "cell_type": "code",
   "execution_count": 10,
   "id": "4d0437e4-24f3-4392-9f5c-bb369c91b04c",
   "metadata": {},
   "outputs": [
    {
     "data": {
      "text/plain": [
       "8.997777503361595"
      ]
     },
     "execution_count": 10,
     "metadata": {},
     "output_type": "execute_result"
    }
   ],
   "source": [
    "myfavoites.std()"
   ]
  },
  {
   "cell_type": "code",
   "execution_count": 11,
   "id": "63fc1dd9-f355-4cf9-b50c-7ee1ece9c633",
   "metadata": {},
   "outputs": [],
   "source": [
    "onearraytorulethemall=np.ones(5)"
   ]
  },
  {
   "cell_type": "code",
   "execution_count": 12,
   "id": "7f981d0b-28bd-4b38-b4b9-44f51db1f0ad",
   "metadata": {},
   "outputs": [
    {
     "data": {
      "text/plain": [
       "array([1., 1., 1., 1., 1.])"
      ]
     },
     "execution_count": 12,
     "metadata": {},
     "output_type": "execute_result"
    }
   ],
   "source": [
    "onearraytorulethemall"
   ]
  },
  {
   "cell_type": "code",
   "execution_count": 13,
   "id": "88a49309-b381-43a2-9985-b2b61221272d",
   "metadata": {},
   "outputs": [
    {
     "data": {
      "text/plain": [
       "array([ 8., 20., 22., 25., 36.])"
      ]
     },
     "execution_count": 13,
     "metadata": {},
     "output_type": "execute_result"
    }
   ],
   "source": [
    "myfavoites+onearraytorulethemall"
   ]
  },
  {
   "cell_type": "code",
   "execution_count": 14,
   "id": "d5216225-7f48-4b3d-8a85-7cf6a88d628d",
   "metadata": {},
   "outputs": [
    {
     "data": {
      "text/plain": [
       "array([14, 38, 42, 48, 70])"
      ]
     },
     "execution_count": 14,
     "metadata": {},
     "output_type": "execute_result"
    }
   ],
   "source": [
    "myfavoites*2"
   ]
  },
  {
   "cell_type": "code",
   "execution_count": 16,
   "id": "e73f389d-1942-479b-8682-a91935b00941",
   "metadata": {},
   "outputs": [
    {
     "data": {
      "text/plain": [
       "21"
      ]
     },
     "execution_count": 16,
     "metadata": {},
     "output_type": "execute_result"
    }
   ],
   "source": [
    "myfavoites[2]"
   ]
  },
  {
   "cell_type": "code",
   "execution_count": null,
   "id": "2d419dd1-7477-4381-95fa-bc10206a0a73",
   "metadata": {},
   "outputs": [],
   "source": []
  }
 ],
 "metadata": {
  "kernelspec": {
   "display_name": "Python 3 (ipykernel)",
   "language": "python",
   "name": "python3"
  },
  "language_info": {
   "codemirror_mode": {
    "name": "ipython",
    "version": 3
   },
   "file_extension": ".py",
   "mimetype": "text/x-python",
   "name": "python",
   "nbconvert_exporter": "python",
   "pygments_lexer": "ipython3",
   "version": "3.9.13"
  }
 },
 "nbformat": 4,
 "nbformat_minor": 5
}
