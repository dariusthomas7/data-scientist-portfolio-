{
 "cells": [
  {
   "cell_type": "code",
   "execution_count": 3,
   "id": "a9eb7f0b-5dca-4ef8-8c1d-99cc3709eddb",
   "metadata": {},
   "outputs": [],
   "source": [
    "import pandas as pd"
   ]
  },
  {
   "cell_type": "markdown",
   "id": "ee619303-7a93-4964-ae90-bc3f4117650b",
   "metadata": {},
   "source": [
    "pip install pandas"
   ]
  },
  {
   "cell_type": "code",
   "execution_count": 5,
   "id": "88179ae5-69fe-43fb-8077-6708149b6cf8",
   "metadata": {},
   "outputs": [],
   "source": [
    "bison=pd.read_csv(\"/Users/ortegap1/Desktop/SCI Data/DS 109 Python/BisonTracking.csv\")"
   ]
  },
  {
   "cell_type": "code",
   "execution_count": 10,
   "id": "2bd96d6f-daa7-4100-a6c3-1fd7be4557bc",
   "metadata": {},
   "outputs": [
    {
     "data": {
      "text/html": [
       "<div>\n",
       "<style scoped>\n",
       "    .dataframe tbody tr th:only-of-type {\n",
       "        vertical-align: middle;\n",
       "    }\n",
       "\n",
       "    .dataframe tbody tr th {\n",
       "        vertical-align: top;\n",
       "    }\n",
       "\n",
       "    .dataframe thead th {\n",
       "        text-align: right;\n",
       "    }\n",
       "</style>\n",
       "<table border=\"1\" class=\"dataframe\">\n",
       "  <thead>\n",
       "    <tr style=\"text-align: right;\">\n",
       "      <th></th>\n",
       "      <th>Collection/Population Locality</th>\n",
       "      <th>SpecimenNumber</th>\n",
       "      <th>Genus</th>\n",
       "      <th>Species</th>\n",
       "      <th>Length</th>\n",
       "    </tr>\n",
       "  </thead>\n",
       "  <tbody>\n",
       "    <tr>\n",
       "      <th>0</th>\n",
       "      <td>12 Mile Creek</td>\n",
       "      <td>112916</td>\n",
       "      <td>Bison</td>\n",
       "      <td>antiquus</td>\n",
       "      <td>8</td>\n",
       "    </tr>\n",
       "    <tr>\n",
       "      <th>1</th>\n",
       "      <td>12 Mile Creek</td>\n",
       "      <td>112917</td>\n",
       "      <td>Bison</td>\n",
       "      <td>antiquus</td>\n",
       "      <td>7</td>\n",
       "    </tr>\n",
       "    <tr>\n",
       "      <th>2</th>\n",
       "      <td>12 Mile Creek</td>\n",
       "      <td>112918</td>\n",
       "      <td>Bison</td>\n",
       "      <td>antiquus</td>\n",
       "      <td>7</td>\n",
       "    </tr>\n",
       "    <tr>\n",
       "      <th>3</th>\n",
       "      <td>12 Mile Creek</td>\n",
       "      <td>112919</td>\n",
       "      <td>Bison</td>\n",
       "      <td>antiquus</td>\n",
       "      <td>8</td>\n",
       "    </tr>\n",
       "    <tr>\n",
       "      <th>4</th>\n",
       "      <td>12 Mile Creek</td>\n",
       "      <td>112921</td>\n",
       "      <td>Bison</td>\n",
       "      <td>antiquus</td>\n",
       "      <td>9</td>\n",
       "    </tr>\n",
       "    <tr>\n",
       "      <th>5</th>\n",
       "      <td>12 Mile Creek</td>\n",
       "      <td>112925</td>\n",
       "      <td>Bison</td>\n",
       "      <td>antiquus</td>\n",
       "      <td>9</td>\n",
       "    </tr>\n",
       "    <tr>\n",
       "      <th>6</th>\n",
       "      <td>Agate Basin-Agate Basin</td>\n",
       "      <td>458</td>\n",
       "      <td>Bison</td>\n",
       "      <td>antiquus</td>\n",
       "      <td>7</td>\n",
       "    </tr>\n",
       "  </tbody>\n",
       "</table>\n",
       "</div>"
      ],
      "text/plain": [
       "  Collection/Population Locality SpecimenNumber  Genus   Species  Length\n",
       "0                  12 Mile Creek         112916  Bison  antiquus       8\n",
       "1                  12 Mile Creek         112917  Bison  antiquus       7\n",
       "2                  12 Mile Creek         112918  Bison  antiquus       7\n",
       "3                  12 Mile Creek         112919  Bison  antiquus       8\n",
       "4                  12 Mile Creek         112921  Bison  antiquus       9\n",
       "5                  12 Mile Creek         112925  Bison  antiquus       9\n",
       "6        Agate Basin-Agate Basin            458  Bison  antiquus       7"
      ]
     },
     "execution_count": 10,
     "metadata": {},
     "output_type": "execute_result"
    }
   ],
   "source": [
    "bison.head(7)"
   ]
  },
  {
   "cell_type": "code",
   "execution_count": 9,
   "id": "cd042494-3f51-4c45-ae76-bbde062538dd",
   "metadata": {},
   "outputs": [
    {
     "data": {
      "text/html": [
       "<div>\n",
       "<style scoped>\n",
       "    .dataframe tbody tr th:only-of-type {\n",
       "        vertical-align: middle;\n",
       "    }\n",
       "\n",
       "    .dataframe tbody tr th {\n",
       "        vertical-align: top;\n",
       "    }\n",
       "\n",
       "    .dataframe thead th {\n",
       "        text-align: right;\n",
       "    }\n",
       "</style>\n",
       "<table border=\"1\" class=\"dataframe\">\n",
       "  <thead>\n",
       "    <tr style=\"text-align: right;\">\n",
       "      <th></th>\n",
       "      <th>Collection/Population Locality</th>\n",
       "      <th>SpecimenNumber</th>\n",
       "      <th>Genus</th>\n",
       "      <th>Species</th>\n",
       "      <th>Length</th>\n",
       "    </tr>\n",
       "  </thead>\n",
       "  <tbody>\n",
       "    <tr>\n",
       "      <th>1097</th>\n",
       "      <td>Simonsen</td>\n",
       "      <td>SEC. 8, 30\", E2, #bb</td>\n",
       "      <td>Bison</td>\n",
       "      <td>antiquus</td>\n",
       "      <td>8</td>\n",
       "    </tr>\n",
       "    <tr>\n",
       "      <th>1098</th>\n",
       "      <td>Simonsen</td>\n",
       "      <td>SW15 #3</td>\n",
       "      <td>Bison</td>\n",
       "      <td>antiquus</td>\n",
       "      <td>8</td>\n",
       "    </tr>\n",
       "    <tr>\n",
       "      <th>1099</th>\n",
       "      <td>Simonsen</td>\n",
       "      <td>SW15 #3</td>\n",
       "      <td>Bison</td>\n",
       "      <td>antiquus</td>\n",
       "      <td>7</td>\n",
       "    </tr>\n",
       "    <tr>\n",
       "      <th>1100</th>\n",
       "      <td>Simonsen</td>\n",
       "      <td>SW37 #9</td>\n",
       "      <td>Bison</td>\n",
       "      <td>antiquus</td>\n",
       "      <td>9</td>\n",
       "    </tr>\n",
       "    <tr>\n",
       "      <th>1101</th>\n",
       "      <td>Simonsen</td>\n",
       "      <td>SW37 #9</td>\n",
       "      <td>Bison</td>\n",
       "      <td>antiquus</td>\n",
       "      <td>8</td>\n",
       "    </tr>\n",
       "    <tr>\n",
       "      <th>1102</th>\n",
       "      <td>Terapa</td>\n",
       "      <td>TERA 403</td>\n",
       "      <td>Bison</td>\n",
       "      <td>antiquus</td>\n",
       "      <td>7</td>\n",
       "    </tr>\n",
       "    <tr>\n",
       "      <th>1103</th>\n",
       "      <td>Terapa</td>\n",
       "      <td>TERA 404</td>\n",
       "      <td>Bison</td>\n",
       "      <td>antiquus</td>\n",
       "      <td>8</td>\n",
       "    </tr>\n",
       "    <tr>\n",
       "      <th>1104</th>\n",
       "      <td>Terapa</td>\n",
       "      <td>TERA 426</td>\n",
       "      <td>Bison</td>\n",
       "      <td>antiquus</td>\n",
       "      <td>9</td>\n",
       "    </tr>\n",
       "    <tr>\n",
       "      <th>1105</th>\n",
       "      <td>WICA</td>\n",
       "      <td>422F7A5179</td>\n",
       "      <td>Bison</td>\n",
       "      <td>bison</td>\n",
       "      <td>7</td>\n",
       "    </tr>\n",
       "    <tr>\n",
       "      <th>1106</th>\n",
       "      <td>WICA</td>\n",
       "      <td>AVID*074*597*636</td>\n",
       "      <td>Bison</td>\n",
       "      <td>bison</td>\n",
       "      <td>7</td>\n",
       "    </tr>\n",
       "  </tbody>\n",
       "</table>\n",
       "</div>"
      ],
      "text/plain": [
       "     Collection/Population Locality        SpecimenNumber  Genus   Species  \\\n",
       "1097                       Simonsen  SEC. 8, 30\", E2, #bb  Bison  antiquus   \n",
       "1098                       Simonsen               SW15 #3  Bison  antiquus   \n",
       "1099                       Simonsen               SW15 #3  Bison  antiquus   \n",
       "1100                       Simonsen               SW37 #9  Bison  antiquus   \n",
       "1101                       Simonsen               SW37 #9  Bison  antiquus   \n",
       "1102                         Terapa              TERA 403  Bison  antiquus   \n",
       "1103                         Terapa              TERA 404  Bison  antiquus   \n",
       "1104                         Terapa              TERA 426  Bison  antiquus   \n",
       "1105                           WICA            422F7A5179  Bison     bison   \n",
       "1106                           WICA      AVID*074*597*636  Bison     bison   \n",
       "\n",
       "      Length  \n",
       "1097       8  \n",
       "1098       8  \n",
       "1099       7  \n",
       "1100       9  \n",
       "1101       8  \n",
       "1102       7  \n",
       "1103       8  \n",
       "1104       9  \n",
       "1105       7  \n",
       "1106       7  "
      ]
     },
     "execution_count": 9,
     "metadata": {},
     "output_type": "execute_result"
    }
   ],
   "source": [
    "bison.tail(10)"
   ]
  },
  {
   "cell_type": "markdown",
   "id": "347acb87-b342-47e5-8760-de4c2dbd6aab",
   "metadata": {},
   "source": [
    "## Read in your data as a CSV file\n",
    "\n",
    "Look at the first seven rows of your data <br>\n",
    "Look at the last ten rows of your data <br>\n",
    "Determine the number of rows and columns your dataset has <br>\n",
    "And answer the following questions: <br>\n",
    "\n",
    "How many bison are of the species antiquus?<br>\n",
    "What is the mean and standard deviation of Length?<br>\n",
    "What is the median length of the bison?<br>\n"
   ]
  },
  {
   "cell_type": "code",
   "execution_count": 11,
   "id": "b7f2cbee-08a0-464e-9819-51ba01525917",
   "metadata": {},
   "outputs": [
    {
     "data": {
      "text/plain": [
       "1107"
      ]
     },
     "execution_count": 11,
     "metadata": {},
     "output_type": "execute_result"
    }
   ],
   "source": [
    "len(bison)"
   ]
  },
  {
   "cell_type": "code",
   "execution_count": 12,
   "id": "f13941cb-5802-4f0b-8a38-85f476179fba",
   "metadata": {},
   "outputs": [
    {
     "data": {
      "text/plain": [
       "5"
      ]
     },
     "execution_count": 12,
     "metadata": {},
     "output_type": "execute_result"
    }
   ],
   "source": [
    "len(bison.columns)"
   ]
  },
  {
   "cell_type": "code",
   "execution_count": 13,
   "id": "a869607f-9709-4926-9c77-21c8655322ec",
   "metadata": {},
   "outputs": [
    {
     "data": {
      "text/plain": [
       "Index(['Collection/Population Locality', 'SpecimenNumber', 'Genus', 'Species',\n",
       "       'Length'],\n",
       "      dtype='object')"
      ]
     },
     "execution_count": 13,
     "metadata": {},
     "output_type": "execute_result"
    }
   ],
   "source": [
    "bison.columns"
   ]
  },
  {
   "cell_type": "code",
   "execution_count": 15,
   "id": "3744fcc9-d5a2-4d39-8b1c-8bcb0224aff1",
   "metadata": {},
   "outputs": [
    {
     "data": {
      "text/plain": [
       "antiquus        633\n",
       "bison           435\n",
       "occidentalis     39\n",
       "Name: Species, dtype: int64"
      ]
     },
     "execution_count": 15,
     "metadata": {},
     "output_type": "execute_result"
    }
   ],
   "source": [
    "bison.Species.value_counts()"
   ]
  },
  {
   "cell_type": "code",
   "execution_count": 16,
   "id": "28add710-2c6f-4cf0-bc83-c48c5681bd51",
   "metadata": {},
   "outputs": [
    {
     "data": {
      "text/html": [
       "<div>\n",
       "<style scoped>\n",
       "    .dataframe tbody tr th:only-of-type {\n",
       "        vertical-align: middle;\n",
       "    }\n",
       "\n",
       "    .dataframe tbody tr th {\n",
       "        vertical-align: top;\n",
       "    }\n",
       "\n",
       "    .dataframe thead th {\n",
       "        text-align: right;\n",
       "    }\n",
       "</style>\n",
       "<table border=\"1\" class=\"dataframe\">\n",
       "  <thead>\n",
       "    <tr style=\"text-align: right;\">\n",
       "      <th></th>\n",
       "      <th>Length</th>\n",
       "    </tr>\n",
       "  </thead>\n",
       "  <tbody>\n",
       "    <tr>\n",
       "      <th>count</th>\n",
       "      <td>1107.000000</td>\n",
       "    </tr>\n",
       "    <tr>\n",
       "      <th>mean</th>\n",
       "      <td>7.981030</td>\n",
       "    </tr>\n",
       "    <tr>\n",
       "      <th>std</th>\n",
       "      <td>0.808299</td>\n",
       "    </tr>\n",
       "    <tr>\n",
       "      <th>min</th>\n",
       "      <td>7.000000</td>\n",
       "    </tr>\n",
       "    <tr>\n",
       "      <th>25%</th>\n",
       "      <td>7.000000</td>\n",
       "    </tr>\n",
       "    <tr>\n",
       "      <th>50%</th>\n",
       "      <td>8.000000</td>\n",
       "    </tr>\n",
       "    <tr>\n",
       "      <th>75%</th>\n",
       "      <td>9.000000</td>\n",
       "    </tr>\n",
       "    <tr>\n",
       "      <th>max</th>\n",
       "      <td>9.000000</td>\n",
       "    </tr>\n",
       "  </tbody>\n",
       "</table>\n",
       "</div>"
      ],
      "text/plain": [
       "            Length\n",
       "count  1107.000000\n",
       "mean      7.981030\n",
       "std       0.808299\n",
       "min       7.000000\n",
       "25%       7.000000\n",
       "50%       8.000000\n",
       "75%       9.000000\n",
       "max       9.000000"
      ]
     },
     "execution_count": 16,
     "metadata": {},
     "output_type": "execute_result"
    }
   ],
   "source": [
    "bison.describe() #this returns only the numeric values in the dataset "
   ]
  },
  {
   "cell_type": "code",
   "execution_count": 17,
   "id": "ee6262af-57be-4037-953a-2948eeb5f4c6",
   "metadata": {},
   "outputs": [
    {
     "data": {
      "text/plain": [
       "count    1107.000000\n",
       "mean        7.981030\n",
       "std         0.808299\n",
       "min         7.000000\n",
       "25%         7.000000\n",
       "50%         8.000000\n",
       "75%         9.000000\n",
       "max         9.000000\n",
       "Name: Length, dtype: float64"
      ]
     },
     "execution_count": 17,
     "metadata": {},
     "output_type": "execute_result"
    }
   ],
   "source": [
    "bison.Length.describe()"
   ]
  },
  {
   "cell_type": "code",
   "execution_count": 18,
   "id": "11965203-6677-4452-b5c5-7a111a2af787",
   "metadata": {},
   "outputs": [
    {
     "data": {
      "text/html": [
       "<div>\n",
       "<style scoped>\n",
       "    .dataframe tbody tr th:only-of-type {\n",
       "        vertical-align: middle;\n",
       "    }\n",
       "\n",
       "    .dataframe tbody tr th {\n",
       "        vertical-align: top;\n",
       "    }\n",
       "\n",
       "    .dataframe thead th {\n",
       "        text-align: right;\n",
       "    }\n",
       "</style>\n",
       "<table border=\"1\" class=\"dataframe\">\n",
       "  <thead>\n",
       "    <tr style=\"text-align: right;\">\n",
       "      <th></th>\n",
       "      <th>Collection/Population Locality</th>\n",
       "      <th>SpecimenNumber</th>\n",
       "      <th>Genus</th>\n",
       "      <th>Species</th>\n",
       "      <th>Length</th>\n",
       "    </tr>\n",
       "  </thead>\n",
       "  <tbody>\n",
       "    <tr>\n",
       "      <th>count</th>\n",
       "      <td>1107</td>\n",
       "      <td>1107</td>\n",
       "      <td>1107</td>\n",
       "      <td>1107</td>\n",
       "      <td>1107.000000</td>\n",
       "    </tr>\n",
       "    <tr>\n",
       "      <th>unique</th>\n",
       "      <td>60</td>\n",
       "      <td>998</td>\n",
       "      <td>1</td>\n",
       "      <td>3</td>\n",
       "      <td>NaN</td>\n",
       "    </tr>\n",
       "    <tr>\n",
       "      <th>top</th>\n",
       "      <td>Glenrock</td>\n",
       "      <td>10-6-32-SP</td>\n",
       "      <td>Bison</td>\n",
       "      <td>antiquus</td>\n",
       "      <td>NaN</td>\n",
       "    </tr>\n",
       "    <tr>\n",
       "      <th>freq</th>\n",
       "      <td>229</td>\n",
       "      <td>17</td>\n",
       "      <td>1107</td>\n",
       "      <td>633</td>\n",
       "      <td>NaN</td>\n",
       "    </tr>\n",
       "    <tr>\n",
       "      <th>mean</th>\n",
       "      <td>NaN</td>\n",
       "      <td>NaN</td>\n",
       "      <td>NaN</td>\n",
       "      <td>NaN</td>\n",
       "      <td>7.981030</td>\n",
       "    </tr>\n",
       "    <tr>\n",
       "      <th>std</th>\n",
       "      <td>NaN</td>\n",
       "      <td>NaN</td>\n",
       "      <td>NaN</td>\n",
       "      <td>NaN</td>\n",
       "      <td>0.808299</td>\n",
       "    </tr>\n",
       "    <tr>\n",
       "      <th>min</th>\n",
       "      <td>NaN</td>\n",
       "      <td>NaN</td>\n",
       "      <td>NaN</td>\n",
       "      <td>NaN</td>\n",
       "      <td>7.000000</td>\n",
       "    </tr>\n",
       "    <tr>\n",
       "      <th>25%</th>\n",
       "      <td>NaN</td>\n",
       "      <td>NaN</td>\n",
       "      <td>NaN</td>\n",
       "      <td>NaN</td>\n",
       "      <td>7.000000</td>\n",
       "    </tr>\n",
       "    <tr>\n",
       "      <th>50%</th>\n",
       "      <td>NaN</td>\n",
       "      <td>NaN</td>\n",
       "      <td>NaN</td>\n",
       "      <td>NaN</td>\n",
       "      <td>8.000000</td>\n",
       "    </tr>\n",
       "    <tr>\n",
       "      <th>75%</th>\n",
       "      <td>NaN</td>\n",
       "      <td>NaN</td>\n",
       "      <td>NaN</td>\n",
       "      <td>NaN</td>\n",
       "      <td>9.000000</td>\n",
       "    </tr>\n",
       "    <tr>\n",
       "      <th>max</th>\n",
       "      <td>NaN</td>\n",
       "      <td>NaN</td>\n",
       "      <td>NaN</td>\n",
       "      <td>NaN</td>\n",
       "      <td>9.000000</td>\n",
       "    </tr>\n",
       "  </tbody>\n",
       "</table>\n",
       "</div>"
      ],
      "text/plain": [
       "       Collection/Population Locality SpecimenNumber  Genus   Species  \\\n",
       "count                            1107           1107   1107      1107   \n",
       "unique                             60            998      1         3   \n",
       "top                          Glenrock     10-6-32-SP  Bison  antiquus   \n",
       "freq                              229             17   1107       633   \n",
       "mean                              NaN            NaN    NaN       NaN   \n",
       "std                               NaN            NaN    NaN       NaN   \n",
       "min                               NaN            NaN    NaN       NaN   \n",
       "25%                               NaN            NaN    NaN       NaN   \n",
       "50%                               NaN            NaN    NaN       NaN   \n",
       "75%                               NaN            NaN    NaN       NaN   \n",
       "max                               NaN            NaN    NaN       NaN   \n",
       "\n",
       "             Length  \n",
       "count   1107.000000  \n",
       "unique          NaN  \n",
       "top             NaN  \n",
       "freq            NaN  \n",
       "mean       7.981030  \n",
       "std        0.808299  \n",
       "min        7.000000  \n",
       "25%        7.000000  \n",
       "50%        8.000000  \n",
       "75%        9.000000  \n",
       "max        9.000000  "
      ]
     },
     "execution_count": 18,
     "metadata": {},
     "output_type": "execute_result"
    }
   ],
   "source": [
    "bison.describe(include='all') #this returns all values in the dataset "
   ]
  },
  {
   "cell_type": "code",
   "execution_count": 19,
   "id": "ae006dd2-3cb4-4372-b0df-7a5b864c4b06",
   "metadata": {},
   "outputs": [
    {
     "data": {
      "text/plain": [
       "7.981029810298103"
      ]
     },
     "execution_count": 19,
     "metadata": {},
     "output_type": "execute_result"
    }
   ],
   "source": [
    "bison.Length.mean()"
   ]
  },
  {
   "cell_type": "code",
   "execution_count": null,
   "id": "a171c8cc-6c41-41ad-a7dd-5b812e1d746f",
   "metadata": {},
   "outputs": [],
   "source": []
  }
 ],
 "metadata": {
  "kernelspec": {
   "display_name": "Python 3 (ipykernel)",
   "language": "python",
   "name": "python3"
  },
  "language_info": {
   "codemirror_mode": {
    "name": "ipython",
    "version": 3
   },
   "file_extension": ".py",
   "mimetype": "text/x-python",
   "name": "python",
   "nbconvert_exporter": "python",
   "pygments_lexer": "ipython3",
   "version": "3.9.13"
  }
 },
 "nbformat": 4,
 "nbformat_minor": 5
}
